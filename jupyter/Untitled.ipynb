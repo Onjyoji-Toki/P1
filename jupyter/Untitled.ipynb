{
 "cells": [
  {
   "cell_type": "code",
   "execution_count": 5,
   "id": "82fe9a8e-58eb-43be-9f14-834452588d8a",
   "metadata": {},
   "outputs": [
    {
     "name": "stdout",
     "output_type": "stream",
     "text": [
      "1.1\n"
     ]
    },
    {
     "data": {
      "image/png": "[encoded data removed]",
      "text/plain": [
       "<Figure size 640x480 with 1 Axes>"
      ]
     },
     "metadata": {},
     "output_type": "display_data"
    }
   ],
   "source": [
    "import numpy as np\n",
    "import matplotlib.pyplot as plt\n",
    "a = 100e6\n",
    "lam = np.log(2)/9.31\n",
    "t = np.linspace(0,15,150)\n",
    "\n",
    "def N(t):\n",
    "    b = np.exp(-lam*t)\n",
    "    return a*(1 - b)/lam\n",
    "def A(t):\n",
    "    b = np.exp(-lam*t)\n",
    "    return a*b\n",
    "plt.plot(t,N(t))\n",
    "plt.plot(t,A(t))\n",
    "plt.yscale('log')\n",
    "t1 = 9\n",
    "t2 = 10\n",
    "print('{:.2g}'.format(N(t2)/N(t1)))"
   ]
  },
  {
   "cell_type": "code",
   "execution_count": 61,
   "id": "d5dc699f-2913-41b2-b0b0-849afc00a289",
   "metadata": {},
   "outputs": [
    {
     "name": "stdout",
     "output_type": "stream",
     "text": [
      "2.113e+09\n",
      "2.116e+09\n",
      "2.686e+06\n",
      "2.8628601481990414\n"
     ]
    }
   ],
   "source": [
    "f = N(10.5) + N(10.5) + N(9)\n",
    "g = N(10) + N(10) + N(10)\n",
    "print('{:.4g}'.format(f))\n",
    "print('{:.4g}'.format(g))\n",
    "print('{:.4g}'.format(g-f))\n",
    "c = 0.13*np.exp(-5/2.3)*0.004*np.exp(-10/9.8)*0.05\n",
    "print((g-f)*c)"
   ]
  },
  {
   "cell_type": "code",
   "execution_count": 53,
   "id": "2f21e483-c484-4f78-9169-d16f42c336ae",
   "metadata": {},
   "outputs": [
    {
     "name": "stdout",
     "output_type": "stream",
     "text": [
      "[11.75016917 11.75016914  6.49993975]\n"
     ]
    }
   ],
   "source": [
    "import numpy as np\n",
    "from scipy.optimize import minimize\n",
    "\n",
    "a = 100e6\n",
    "lam = np.log(2)/9.31\n",
    "\n",
    "def N(t):\n",
    "    b = np.exp(-lam * t)\n",
    "    return a * (1 - b) / lam\n",
    "\n",
    "def f(args):\n",
    "    x, y, z = args\n",
    "    return - (N(x) + N(y) + N(z))\n",
    "\n",
    "constraints = [{'type': 'eq', 'fun': lambda args: args[0] + args[1] + args[2] - 30}]\n",
    "initial_guess = [0, 0, 0]\n",
    "\n",
    "result = minimize(f, initial_guess, bounds=[(0, 30), (0, 30), (0, 6.5)], constraints=constraints, method='SLSQP')\n",
    "\n",
    "best = result.x\n",
    "print(best)"
   ]
  },
  {
   "cell_type": "code",
   "execution_count": 9,
   "id": "49c65454-5126-4f1a-aa92-f80f631d0f82",
   "metadata": {},
   "outputs": [
    {
     "data": {
      "text/plain": [
       "29250.0"
      ]
     },
     "execution_count": 9,
     "metadata": {},
     "output_type": "execute_result"
    }
   ],
   "source": [
    "50e6*0.13*0.09*0.05"
   ]
  },
  {
   "cell_type": "code",
   "execution_count": 7,
   "id": "6bb54f89-d21c-481c-ad92-d92c25d71996",
   "metadata": {},
   "outputs": [
    {
     "data": {
      "text/plain": [
       "0.09"
      ]
     },
     "execution_count": 7,
     "metadata": {},
     "output_type": "execute_result"
    }
   ],
   "source": [
    "np.pi*9/(4*np.pi*25)"
   ]
  },
  {
   "cell_type": "code",
   "execution_count": null,
   "id": "ca150be1-85f2-4178-8770-6baac47cbc88",
   "metadata": {},
   "outputs": [],
   "source": []
  }
 ],
 "metadata": {
  "kernelspec": {
   "display_name": "Python 3 (ipykernel)",
   "language": "python",
   "name": "python3"
  },
  "language_info": {
   "codemirror_mode": {
    "name": "ipython",
    "version": 3
   },
   "file_extension": ".py",
   "mimetype": "text/x-python",
   "name": "python",
   "nbconvert_exporter": "python",
   "pygments_lexer": "ipython3",
   "version": "3.12.0"
  }
 },
 "nbformat": 4,
 "nbformat_minor": 5
}
