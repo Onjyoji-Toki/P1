{
 "cells": [
  {
   "cell_type": "code",
   "execution_count": 31,
   "id": "c676a47c-6158-42ef-b9b3-9e2a6957d2aa",
   "metadata": {},
   "outputs": [],
   "source": [
    "import os\n",
    "from slack_bolt import App\n",
    "from slack_sdk import WebClient\n",
    "from mcp9600.temp import temp\n",
    "\n",
    "# Start your app\n",
    "if __name__ == \"__main__\":\n",
    "    temp()\n",
    "    client = WebClient(os.environ[\"SLACK_BOT_TOKEN\"])\n",
    "    response = client.chat_postMessage(\n",
    "        channel=\"#p1_nu_thermo\",\n",
    "        text=\"The current temperture is \" + str(mcp.temperture),\n",
    "    )"
   ]
  },
  {
   "cell_type": "code",
   "execution_count": null,
   "id": "4cc3842a-decb-4c93-a683-5cee0522ffe6",
   "metadata": {},
   "outputs": [],
   "source": [
    "import os\n",
    "from slack_bolt import App\n",
    "from slack_sdk import WebClient\n",
    "\n",
    "if __name__ == \"__main__\":\n",
    "    with\n",
    "    client = WebClient(os.environ[\"SLACK_BOT_TOKEN\"])\n",
    "    response = client.chat_postMessage(\n",
    "        channel=\"#p1_nu_thermo\",\n",
    "        text=\"The current temperture is \" + str(mcp.temperture),\n",
    "    )"
   ]
  },
  {
   "cell_type": "code",
   "execution_count": 66,
   "id": "b0b4aac8-d72f-4994-8d06-e9a9ce3a2a36",
   "metadata": {},
   "outputs": [
    {
     "ename": "ValueError",
     "evalue": "could not convert string to float: '17:59'",
     "output_type": "error",
     "traceback": [
      "\u001b[0;31m---------------------------------------------------------------------------\u001b[0m",
      "\u001b[0;31mValueError\u001b[0m                                Traceback (most recent call last)",
      "Cell \u001b[0;32mIn[66], line 13\u001b[0m\n\u001b[1;32m     10\u001b[0m     data \u001b[38;5;241m=\u001b[39m line\u001b[38;5;241m.\u001b[39mstrip()\u001b[38;5;241m.\u001b[39msplit()\n\u001b[1;32m     12\u001b[0m     \u001b[38;5;28;01mif\u001b[39;00m \u001b[38;5;28mlen\u001b[39m(data) \u001b[38;5;241m>\u001b[39m\u001b[38;5;241m=\u001b[39m \u001b[38;5;241m2\u001b[39m:\n\u001b[0;32m---> 13\u001b[0m         x_values\u001b[38;5;241m.\u001b[39mappend(\u001b[38;5;28;43mfloat\u001b[39;49m\u001b[43m(\u001b[49m\u001b[43mdata\u001b[49m\u001b[43m[\u001b[49m\u001b[38;5;241;43m0\u001b[39;49m\u001b[43m]\u001b[49m\u001b[43m)\u001b[49m)\n\u001b[1;32m     14\u001b[0m         y_values\u001b[38;5;241m.\u001b[39mappend(\u001b[38;5;28mfloat\u001b[39m(data[\u001b[38;5;241m1\u001b[39m]))\n\u001b[1;32m     16\u001b[0m plt\u001b[38;5;241m.\u001b[39mplot(x_values, y_values, marker\u001b[38;5;241m=\u001b[39m\u001b[38;5;124m'\u001b[39m\u001b[38;5;124mo\u001b[39m\u001b[38;5;124m'\u001b[39m, linestyle\u001b[38;5;241m=\u001b[39m\u001b[38;5;124m'\u001b[39m\u001b[38;5;124m-\u001b[39m\u001b[38;5;124m'\u001b[39m)\n",
      "\u001b[0;31mValueError\u001b[0m: could not convert string to float: '17:59'"
     ]
    }
   ],
   "source": [
    "import matplotlib.pyplot as plt\n",
    "\n",
    "with open('/Users/r.shinoda/Desktop/temp.txt', 'r') as f:\n",
    "    lines = f.readlines()\n",
    "\n",
    "x_values = []\n",
    "y_values = []\n",
    "\n",
    "for line in lines:\n",
    "    data = line.strip().split()\n",
    "\n",
    "    if len(data) >= 2:\n",
    "        x_values.append(float(data[0]))\n",
    "        y_values.append(float(data[1]))\n",
    "\n",
    "plt.plot(x_values, y_values, marker='o', linestyle='-')\n",
    "plt.xlabel('loop')\n",
    "plt.ylabel('temperture')\n",
    "plt.title('temperture')\n",
    "plt.grid(True)\n",
    "plt.savefig('/Users/r.shinoda/Desktop/plot.pdf', format='pdf')"
   ]
  },
  {
   "cell_type": "code",
   "execution_count": null,
   "id": "768b5112-e7e9-4319-a621-f666640badc7",
   "metadata": {},
   "outputs": [],
   "source": [
    "if name == \"main\":\n",
    "    client = WebClient(os.environ[\"SLACK_BOT_TOKEN\"]) \n",
    "    response = client.files_upload_v2(\n",
    "        channel=\"C06EW8Y42DD\",\n",
    "        file=\"/Users/r.shinoda/Desktop/plot.pdf\",\n",
    "        title=\"plot\",\n",
    "        initial_comment=\"comment\" )"
   ]
  },
  {
   "cell_type": "code",
   "execution_count": 2,
   "id": "2052f7c1-6608-450e-b2bf-585d451af7a3",
   "metadata": {},
   "outputs": [
    {
     "name": "stdout",
     "output_type": "stream",
     "text": [
      "1\n"
     ]
    },
    {
     "data": {
      "text/plain": [
       "5"
      ]
     },
     "execution_count": 2,
     "metadata": {},
     "output_type": "execute_result"
    }
   ],
   "source": [
    "import time\n",
    "loop = 1\n",
    "print(loop)\n",
    "f = open('/Users/r.shinoda/Desktop/temp.txt', 'a')\n",
    "f.write(str(loop) + ' ' + str(loop) + '\\r\\n')"
   ]
  }
 ],
 "metadata": {
  "kernelspec": {
   "display_name": "Python 3 (ipykernel)",
   "language": "python",
   "name": "python3"
  },
  "language_info": {
   "codemirror_mode": {
    "name": "ipython",
    "version": 3
   },
   "file_extension": ".py",
   "mimetype": "text/x-python",
   "name": "python",
   "nbconvert_exporter": "python",
   "pygments_lexer": "ipython3",
   "version": "3.12.0"
  }
 },
 "nbformat": 4,
 "nbformat_minor": 5
}
