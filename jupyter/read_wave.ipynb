{
 "cells": [
  {
   "cell_type": "code",
   "execution_count": null,
   "id": "6b6fe734-1e8f-469d-8e06-5b321c069454",
   "metadata": {},
   "outputs": [],
   "source": [
    "import matplotlib.pyplot as plt\n",
    "import numpy as np\n",
    "import os\n",
    "\n",
    "def intg(d):\n",
    "    return (d[510:570] - d[:500].mean()).sum()\n",
    "\n",
    "def histdata(array):\n",
    "    hist, edges = np.histogram(array, bins=5000, range=(0,5000))\n",
    "    return hist, edges\n",
    "\n",
    "total_hist = np.zeros(5000)\n",
    "#print(total_hist)\n",
    "path = '/Users/r.shinoda/p1/data'\n",
    "direction = 'up'   #edit here!!!!!!\n",
    "date = '02140929'   #edit here!!!!!!\n",
    "data_path = os.path.join(path, direction + date, date + direction)\n",
    "print(data_path)\n",
    "\n",
    "num_of_loops = 47   #edit here!!!!!!"
   ]
  },
  {
   "cell_type": "code",
   "execution_count": null,
   "id": "5ca6fc0a-e4af-4f77-8c86-1bf1a6fbb60e",
   "metadata": {},
   "outputs": [],
   "source": [
    "N = 1\n",
    "L = 1000000\n",
    "\n",
    "with open('/Users/r.shinoda/Desktop/02151602Eu152.txt') as f:\n",
    "    lines = []\n",
    "    for i in range(L):\n",
    "        lines.append(f.readline())\n",
    "        \n",
    "plt.figure()\n",
    "\n",
    "for N in range(2000):\n",
    "    test = np.array([int(line) for line in lines[N*1023:N*1023+1023]])\n",
    "    test.mean()\n",
    "    plt.plot(test - test[0:500].mean())\n",
    "plt.xlim([500, 600])"
   ]
  },
  {
   "cell_type": "code",
   "execution_count": null,
   "id": "14380343-20a9-4ba6-b200-ff02bf7e360d",
   "metadata": {},
   "outputs": [],
   "source": [
    "for loop in range(num_of_loops):\n",
    "    file_path = os.path.join(data_path +str(loop)+ '.txt')\n",
    "    print(file_path)\n",
    "    with open(file_path) as f:\n",
    "        lines = f.readlines()\n",
    "        num = len(lines)/1023\n",
    "        print(num)\n",
    "        # test = np.array([int(line) for line in lines[:1023]])\n",
    "        # test.mean()\n",
    "        # plt.figure()\n",
    "        # plt.plot(test - test[0:500].mean())\n",
    "        # plt.xlim([500, 600])\n",
    "\n",
    "        # del test\n",
    "        \n",
    "        N_points = 1023\n",
    "        data = np.array([int(line) for line in lines])\n",
    "        length = len(data)//N_points\n",
    "        data_res = data[:length * N_points].reshape(-1, N_points)\n",
    "\n",
    "        del data\n",
    "        \n",
    "        array = [-intg(d) for d in data_res]\n",
    "\n",
    "        del data_res\n",
    "        \n",
    "        hist, edges = histdata(array)\n",
    "\n",
    "        del array\n",
    "        \n",
    "        total_hist += hist\n",
    "        \n",
    "        # plt.figure()\n",
    "        # plt.plot(edges[:-1], hist)\n",
    "        # plt.xlim([0, 5000])\n",
    "        # plt.xlabel('energy')\n",
    "        # plt.ylabel('ADC counts in loop' + str(loop))"
   ]
  },
  {
   "cell_type": "code",
   "execution_count": null,
   "id": "c498a573-f29b-46b4-9bc1-cfbac312080b",
   "metadata": {},
   "outputs": [],
   "source": [
    "plt.figure()\n",
    "plt.scatter(edges[:-1], total_hist, s=0.5)\n",
    "plt.xlim([0, 5000])\n",
    "plt.yscale('log')\n",
    "plt.xlabel('energy')\n",
    "plt.ylabel('ADC counts')\n",
    "plt.show()"
   ]
  },
  {
   "cell_type": "code",
   "execution_count": null,
   "id": "72bdb682-50e0-47ee-8b26-18401d32bf3c",
   "metadata": {},
   "outputs": [],
   "source": [
    "total_path = data_path + 'with' + str(num_of_loops) + 'loops.npy'\n",
    "print(total_path)"
   ]
  },
  {
   "cell_type": "code",
   "execution_count": null,
   "id": "82a717ce-cc73-411f-8c25-89445c1f5133",
   "metadata": {},
   "outputs": [],
   "source": [
    "np.save(total_path, total_hist)"
   ]
  },
  {
   "cell_type": "code",
   "execution_count": null,
   "id": "294cfd5f-150f-492d-8505-08d6b7fd593b",
   "metadata": {},
   "outputs": [],
   "source": [
    "edge_path = data_path + '_edges.npy'\n",
    "print(edge_path)"
   ]
  },
  {
   "cell_type": "code",
   "execution_count": null,
   "id": "54ae2ec3-93f2-4150-b652-8778c356cb5d",
   "metadata": {},
   "outputs": [],
   "source": [
    "np.save(edge_path, edges)"
   ]
  }
 ],
 "metadata": {
  "kernelspec": {
   "display_name": "Python 3 (ipykernel)",
   "language": "python",
   "name": "python3"
  },
  "language_info": {
   "codemirror_mode": {
    "name": "ipython",
    "version": 3
   },
   "file_extension": ".py",
   "mimetype": "text/x-python",
   "name": "python",
   "nbconvert_exporter": "python",
   "pygments_lexer": "ipython3",
   "version": "3.12.0"
  }
 },
 "nbformat": 4,
 "nbformat_minor": 5
}
