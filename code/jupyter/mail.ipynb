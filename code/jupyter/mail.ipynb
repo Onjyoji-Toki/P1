{
 "cells": [
  {
   "cell_type": "code",
   "execution_count": 16,
   "id": "05617426-4c16-4302-a4fc-160da638cdaa",
   "metadata": {},
   "outputs": [],
   "source": [
    "import smtplib\n",
    "from email.mime.multipart import  MIMEMultipart\n",
    "from email.mime.text import MIMEText"
   ]
  },
  {
   "cell_type": "code",
   "execution_count": 17,
   "id": "d46cb652-da9a-4065-9e54-552c73e629f5",
   "metadata": {},
   "outputs": [
    {
     "data": {
      "text/plain": [
       "(220, b'2.0.0 Ready to start TLS')"
      ]
     },
     "execution_count": 17,
     "metadata": {},
     "output_type": "execute_result"
    }
   ],
   "source": [
    "smtp_server = \"smtp.gmail.com\"\n",
    "port = 587\n",
    "server = smtplib.SMTP(smtp_server, port)\n",
    "server.starttls()"
   ]
  },
  {
   "cell_type": "code",
   "execution_count": 18,
   "id": "b7429fe4-cd80-40d3-876b-5cba9551780e",
   "metadata": {},
   "outputs": [
    {
     "data": {
      "text/plain": [
       "(235, b'2.7.0 Accepted')"
      ]
     },
     "execution_count": 18,
     "metadata": {},
     "output_type": "execute_result"
    }
   ],
   "source": [
    "login_address = \"egoshi2525@gmail.com\"\n",
    "login_password = \"wjxxeraebruuehjf\"\n",
    "server.login(login_address, login_password)"
   ]
  },
  {
   "cell_type": "code",
   "execution_count": 19,
   "id": "13434e90-c384-4fd3-8f1f-27921efec76e",
   "metadata": {},
   "outputs": [],
   "source": [
    "message = MIMEMultipart()\n",
    "message[\"Subject\"] = \"件名\"\n",
    "message[\"From\"] = \"egoshi2525@gmail.com\"\n",
    "message[\"To\"] = \"egoshi2525@gmail.com\"\n",
    "sender_address = \"egoshi2525@gmail.com\"\n",
    "recipient_address = \"egoshi2525@gmail.com\"\n",
    "\n",
    "text = MIMEText(\"本文を入力\")\n",
    "message.attach(text)\n",
    "\n",
    "with smtplib.SMTP(smtp_server, port) as server:\n",
    "    server.starttls()\n",
    "    server.login(login_address, login_password)\n",
    "    server.sendmail(sender_address, recipient_address, message.as_string())"
   ]
  }
 ],
 "metadata": {
  "kernelspec": {
   "display_name": "Python 3 (ipykernel)",
   "language": "python",
   "name": "python3"
  },
  "language_info": {
   "codemirror_mode": {
    "name": "ipython",
    "version": 3
   },
   "file_extension": ".py",
   "mimetype": "text/x-python",
   "name": "python",
   "nbconvert_exporter": "python",
   "pygments_lexer": "ipython3",
   "version": "3.12.0"
  }
 },
 "nbformat": 4,
 "nbformat_minor": 5
}
